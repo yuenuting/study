{
 "cells": [
  {
   "cell_type": "markdown",
   "metadata": {},
   "source": [
    "# 一起加油！   \n",
    "\n",
    "      高考自学日记：任务时间，效率效果。\n",
    "      为梦而来，不放弃，一定能实现目标。\n"
   ]
  },
  {
   "cell_type": "code",
   "execution_count": 1,
   "metadata": {},
   "outputs": [
    {
     "name": "stdout",
     "output_type": "stream",
     "text": [
      "进度：正常；时间百分比:1%；任务百分比1%；效果百分比：30%\n",
      "时间： 当前时间：2020-08-29；出发时间, 2020-08-29；剩余时间：1000天；进度百分比:1%\n",
      "任务： 总体任务：   ；完成任务：   ；剩余任务：   \n",
      "# 任务-时间 总表：\n",
      "\n",
      "\n",
      "\n",
      "\n",
      "\n",
      "\n",
      "学科-竞赛 分表：\n",
      "语文：\n",
      "\n",
      "\n",
      "\n",
      "\n",
      "数学：\n",
      "\n",
      "\n",
      "\n",
      "\n",
      "英语：\n",
      "\n",
      "\n",
      "\n",
      "\n",
      "物理：\n",
      "\n",
      "\n",
      "\n",
      "\n",
      "化学：\n",
      "\n",
      "\n",
      "\n",
      "\n",
      "生物：\n",
      "\n",
      "\n",
      "\n",
      "\n",
      "历史：\n",
      "\n",
      "\n",
      "\n",
      "\n",
      "地理：\n",
      "\n",
      "\n",
      "\n",
      "\n",
      "政治：\n",
      "\n",
      "\n",
      "\n",
      "\n",
      "竞赛-数学：（可比赛）\n",
      "\n",
      "\n",
      "\n",
      "\n",
      "竞赛-计算机：（兴趣选修）\n",
      "\n",
      "\n",
      "\n",
      "\n",
      "竞赛-物理：（准比赛）\n",
      "\n",
      "\n",
      "\n",
      "\n"
     ]
    }
   ],
   "source": [
    "from do import do\n",
    "do()\n"
   ]
  }
 ],
 "metadata": {
  "kernelspec": {
   "display_name": "Python 3",
   "language": "python",
   "name": "python3"
  },
  "language_info": {
   "codemirror_mode": {
    "name": "ipython",
    "version": 3
   },
   "file_extension": ".py",
   "mimetype": "text/x-python",
   "name": "python",
   "nbconvert_exporter": "python",
   "pygments_lexer": "ipython3",
   "version": "3.7.0"
  }
 },
 "nbformat": 4,
 "nbformat_minor": 2
}
